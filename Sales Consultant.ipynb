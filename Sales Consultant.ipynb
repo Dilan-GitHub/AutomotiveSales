{
 "cells": [
  {
   "cell_type": "code",
   "execution_count": 5,
   "id": "cfb9224a",
   "metadata": {},
   "outputs": [
    {
     "name": "stdout",
     "output_type": "stream",
     "text": [
      "    salesman_id  total_sales  average_sale_price  total_profit  \\\n",
      "0             1   1541726.95        21714.464085     338314.80   \n",
      "1             2   1656742.75        20709.284375     314992.05   \n",
      "2             3   1740834.70        20009.594253     351331.30   \n",
      "3             4   1622801.55        17832.984066     193920.70   \n",
      "4             5   1243435.25        20055.407258     230624.50   \n",
      "5             6   1707740.25        19188.092697     314182.25   \n",
      "6             7   1871077.50        22012.676471     311992.15   \n",
      "7             8   1731896.50        19680.642045     317687.95   \n",
      "8             9   1807799.50        20086.661111     413378.05   \n",
      "9            10   1706316.20        21598.939241     300078.60   \n",
      "10           11   1703005.75        19134.896067     376218.45   \n",
      "11           12   1913832.55        21503.736517     370746.35   \n",
      "\n",
      "                name  \n",
      "0         John Smith  \n",
      "1       Alex Johnson  \n",
      "2   Michael Williams  \n",
      "3        Sarah Jones  \n",
      "4      Jessica Brown  \n",
      "5        Chris Davis  \n",
      "6       David Miller  \n",
      "7      Daniel Wilson  \n",
      "8       Sophia Moore  \n",
      "9       Emily Taylor  \n",
      "10  Matthew Anderson  \n",
      "11     Andrew Thomas  \n"
     ]
    }
   ],
   "source": [
    "import pandas as pd\n",
    "\n",
    "# Load the dataset\n",
    "file_path = 'automotive_data.xlsx'  \n",
    "xls = pd.ExcelFile(file_path)\n",
    "\n",
    "# Load the Sales and Salesmen DataFrames\n",
    "sales_df = pd.read_excel(xls, sheet_name='Sales')\n",
    "salesmen_df = pd.read_excel(xls, sheet_name='Salesmen')\n",
    "\n",
    "# Calculate total sales, average sale price, and total profit per salesman\n",
    "sales_performance = sales_df.groupby('salesman_id').agg(\n",
    "    total_sales=('sale_price', 'sum'),\n",
    "    average_sale_price=('sale_price', 'mean'),\n",
    "    total_profit=('profit', 'sum')\n",
    ").reset_index()\n",
    "\n",
    "# Merge with the Salesmen DataFrame to get the salesman's name\n",
    "sales_performance = sales_performance.merge(salesmen_df[['salesman_id', 'name']], on='salesman_id')\n",
    "\n",
    "# Display the results\n",
    "print(sales_performance)\n"
   ]
  },
  {
   "cell_type": "code",
   "execution_count": 6,
   "id": "5c622101",
   "metadata": {},
   "outputs": [
    {
     "name": "stdout",
     "output_type": "stream",
     "text": [
      "             make       model  total_profit  total_sales  average_sale_price\n",
      "64          Tesla     Model 3     168147.00   1016071.00        35036.931034\n",
      "53  Mercedes-Benz     E-Class      85779.20    420919.65        19132.711364\n",
      "23           Ford       Focus      84938.35    219583.70        14638.913333\n",
      "58         Nissan       Rogue      84016.75    352961.25        23530.750000\n",
      "0           Acura         ILX      81333.00    478317.00        26573.166667\n",
      "..            ...         ...           ...          ...                 ...\n",
      "2           Acura         RDX      13385.00    265128.75        24102.613636\n",
      "33       Infiniti        QX60      13149.00    566384.00        35399.000000\n",
      "65          Tesla     Model S       7197.00    254266.00        23115.090909\n",
      "35       Infiniti        QX80        489.00    272079.00        30231.000000\n",
      "57         Nissan  Pathfinder     -19721.70    158046.50        14367.863636\n",
      "\n",
      "[79 rows x 5 columns]\n"
     ]
    }
   ],
   "source": [
    "# Calculate total profit per vehicle make and model\n",
    "profitability_analysis = sales_df.groupby(['make', 'model']).agg(\n",
    "    total_profit=('profit', 'sum'),\n",
    "    total_sales=('sale_price', 'sum'),\n",
    "    average_sale_price=('sale_price', 'mean')\n",
    ").reset_index()\n",
    "\n",
    "# Sort the results by total profit in descending order\n",
    "profitability_analysis = profitability_analysis.sort_values(by='total_profit', ascending=False)\n",
    "\n",
    "# Display the results\n",
    "print(profitability_analysis)"
   ]
  },
  {
   "cell_type": "code",
   "execution_count": 7,
   "id": "16f51745",
   "metadata": {},
   "outputs": [
    {
     "name": "stdout",
     "output_type": "stream",
     "text": [
      "             make     model  average_credit_score  average_annual_income  \\\n",
      "64          Tesla   Model 3            586.241379           75363.275862   \n",
      "55  Mercedes-Benz       GLE            570.692308           75434.307692   \n",
      "34       Infiniti      QX70            608.923077           76735.153846   \n",
      "33       Infiniti      QX60            559.187500           67755.625000   \n",
      "32       Infiniti       Q50            561.166667           65156.000000   \n",
      "..            ...       ...                   ...                    ...   \n",
      "68         Toyota   Corolla            614.571429           80446.857143   \n",
      "24          Honda    Accord            568.076923           82417.538462   \n",
      "50          Mazda    Mazda3            618.000000           68354.857143   \n",
      "63         Subaru   Outback            542.166667           83888.666667   \n",
      "29        Hyundai  Santa Fe            560.428571           81917.857143   \n",
      "\n",
      "    total_sales  total_profit  \n",
      "64   1016071.00     168147.00  \n",
      "55    675252.00      71469.00  \n",
      "34    572719.00      15558.00  \n",
      "33    566384.00      13149.00  \n",
      "32    489832.00      31200.00  \n",
      "..          ...           ...  \n",
      "68    117286.25      29225.35  \n",
      "24    115404.60      41348.15  \n",
      "50    101359.80      29968.20  \n",
      "63     89999.00      24434.50  \n",
      "29     68679.05      29986.10  \n",
      "\n",
      "[79 rows x 6 columns]\n"
     ]
    }
   ],
   "source": [
    "# Load the Sales and Customers DataFrames\n",
    "sales_df = pd.read_excel(xls, sheet_name='Sales')\n",
    "customers_df = pd.read_excel(xls, sheet_name='Customers')\n",
    "\n",
    "# Merge the Sales DataFrame with the Customers DataFrame\n",
    "customer_sales_analysis = sales_df.merge(customers_df, left_on='customer_id', right_on='customer_id')\n",
    "\n",
    "# Group by vehicle make and model, and calculate average credit score and annual income\n",
    "customer_insights = customer_sales_analysis.groupby(['make', 'model']).agg(\n",
    "    average_credit_score=('credit_score', 'mean'),\n",
    "    average_annual_income=('annual_income', 'mean'),\n",
    "    total_sales=('sale_price', 'sum'),\n",
    "    total_profit=('profit', 'sum')\n",
    ").reset_index()\n",
    "\n",
    "# Sort the results by total sales in descending order\n",
    "customer_insights = customer_insights.sort_values(by='total_sales', ascending=False)\n",
    "\n",
    "# Display the results\n",
    "print(customer_insights)"
   ]
  },
  {
   "cell_type": "code",
   "execution_count": 15,
   "id": "5e728159",
   "metadata": {},
   "outputs": [
    {
     "name": "stdout",
     "output_type": "stream",
     "text": [
      "Correlation between average credit score and total profit: -0.031312581375292775\n"
     ]
    }
   ],
   "source": [
    "# Parse the relevant sheets into DataFrames\n",
    "sales_df = xls.parse('Sales')\n",
    "customers_df = xls.parse('Customers')\n",
    "\n",
    "# Merge sales and customer data\n",
    "merged_data = pd.merge(sales_df, customers_df, on='customer_id')\n",
    "\n",
    "# Group by vehicle make and model\n",
    "profit_and_income_data = merged_data.groupby(['make', 'model']).agg(\n",
    "    avg_credit_score=('credit_score', 'mean'),\n",
    "    total_profit=('profit', 'sum')\n",
    ").reset_index()\n",
    "\n",
    "# Calculate the correlation\n",
    "correlation = profit_and_income_data['avg_credit_score'].corr(profit_and_income_data['total_profit'])\n",
    "\n",
    "# Print the result\n",
    "print(f\"Correlation between average credit score and total profit: {correlation}\")\n",
    "\n"
   ]
  },
  {
   "cell_type": "code",
   "execution_count": 16,
   "id": "f1fc4309",
   "metadata": {},
   "outputs": [
    {
     "name": "stdout",
     "output_type": "stream",
     "text": [
      "    year  month  number_of_sales\n",
      "0   2014      1               24\n",
      "1   2014      2               17\n",
      "2   2014      3               18\n",
      "3   2014      4               22\n",
      "4   2014      5               23\n",
      "5   2014      6               22\n",
      "6   2014      7               20\n",
      "7   2014      8               17\n",
      "8   2014      9               16\n",
      "9   2014     10               28\n",
      "10  2014     11               17\n",
      "11  2014     12               21\n",
      "12  2015      1               18\n",
      "13  2015      2               38\n",
      "14  2015      3               30\n",
      "15  2015      4               32\n",
      "16  2015      5               26\n",
      "17  2015      6               29\n",
      "18  2015      7               26\n",
      "19  2015      8               23\n",
      "20  2015      9               20\n",
      "21  2015     10               15\n",
      "22  2015     11               30\n",
      "23  2015     12               20\n",
      "24  2016      1               41\n",
      "25  2016      2               27\n",
      "26  2016      3               42\n",
      "27  2016      4               46\n",
      "28  2016      5               37\n",
      "29  2016      6               34\n",
      "30  2016      7               29\n",
      "31  2016      8               37\n",
      "32  2016      9               45\n",
      "33  2016     10               42\n",
      "34  2016     11               32\n",
      "35  2016     12               36\n"
     ]
    }
   ],
   "source": [
    "# Ensure 'sale_date' is in datetime format\n",
    "sales_df['sale_date'] = pd.to_datetime(sales_df['sale_date'])\n",
    "\n",
    "# Extract year and month\n",
    "sales_df['year'] = sales_df['sale_date'].dt.year\n",
    "sales_df['month'] = sales_df['sale_date'].dt.month\n",
    "\n",
    "# Group by year and month to count the number of sales\n",
    "sales_trends = sales_df.groupby(['year', 'month']).agg(\n",
    "    number_of_sales=('sale_id', 'count')\n",
    ").reset_index()\n",
    "\n",
    "# Print or display the results\n",
    "print(sales_trends)\n"
   ]
  },
  {
   "cell_type": "code",
   "execution_count": 18,
   "id": "12466e80",
   "metadata": {},
   "outputs": [
    {
     "name": "stdout",
     "output_type": "stream",
     "text": [
      "    salesman_id  year  vehicles_sold              name\n",
      "0             1  2014             17        John Smith\n",
      "1             1  2015             24        John Smith\n",
      "2             1  2016             30        John Smith\n",
      "3             2  2014             19      Alex Johnson\n",
      "4             2  2015             26      Alex Johnson\n",
      "5             2  2016             35      Alex Johnson\n",
      "6             3  2014             26  Michael Williams\n",
      "7             3  2015             24  Michael Williams\n",
      "8             3  2016             37  Michael Williams\n",
      "9             4  2014             22       Sarah Jones\n",
      "10            4  2015             30       Sarah Jones\n",
      "11            4  2016             39       Sarah Jones\n",
      "12            5  2014             18     Jessica Brown\n",
      "13            5  2015             13     Jessica Brown\n",
      "14            5  2016             31     Jessica Brown\n",
      "15            6  2014             22       Chris Davis\n",
      "16            6  2015             28       Chris Davis\n",
      "17            6  2016             39       Chris Davis\n",
      "18            7  2014             29      David Miller\n",
      "19            7  2015             18      David Miller\n",
      "20            7  2016             38      David Miller\n",
      "21            8  2014             21     Daniel Wilson\n",
      "22            8  2015             28     Daniel Wilson\n",
      "23            8  2016             39     Daniel Wilson\n",
      "24            9  2014             19      Sophia Moore\n",
      "25            9  2015             30      Sophia Moore\n",
      "26            9  2016             41      Sophia Moore\n",
      "27           10  2014             13      Emily Taylor\n",
      "28           10  2015             25      Emily Taylor\n",
      "29           10  2016             41      Emily Taylor\n",
      "30           11  2014             17  Matthew Anderson\n",
      "31           11  2015             30  Matthew Anderson\n",
      "32           11  2016             42  Matthew Anderson\n",
      "33           12  2014             22     Andrew Thomas\n",
      "34           12  2015             31     Andrew Thomas\n",
      "35           12  2016             36     Andrew Thomas\n"
     ]
    }
   ],
   "source": [
    "# Group by salesman ID and year to count the number of vehicles sold\n",
    "sales_by_salesman_year = sales_df.groupby(['salesman_id', 'year']).agg(\n",
    "    vehicles_sold=('sale_id', 'count')\n",
    ").reset_index()\n",
    "\n",
    "# Merge with the salesmen data to include salesperson names\n",
    "sales_by_salesman_year = pd.merge(sales_by_salesman_year, salesmen_df[['salesman_id', 'name']], on='salesman_id')\n",
    "\n",
    "# Display the result\n",
    "print(sales_by_salesman_year)\n",
    "\n"
   ]
  },
  {
   "cell_type": "code",
   "execution_count": 20,
   "id": "36f90375",
   "metadata": {},
   "outputs": [
    {
     "name": "stdout",
     "output_type": "stream",
     "text": [
      "Average Days on Lot: 44.65\n"
     ]
    }
   ],
   "source": [
    "# Calculate the average days a vehicle stays on the lot\n",
    "average_days_on_lot = sales_df['days_on_lot'].mean()\n",
    "\n",
    "# Print the result\n",
    "print(f\"Average Days on Lot: {average_days_on_lot:.2f}\")\n",
    "\n"
   ]
  },
  {
   "cell_type": "code",
   "execution_count": 21,
   "id": "3726eeeb",
   "metadata": {},
   "outputs": [
    {
     "name": "stdout",
     "output_type": "stream",
     "text": [
      "     customer_id  purchase_count first_name  last_name  credit_score  \\\n",
      "0              3               2    Richard    Johnson           309   \n",
      "1              8               2     Robert   Martinez           614   \n",
      "2             17               2      David     Miller           399   \n",
      "3             23               2     Joseph      Brown           844   \n",
      "4             26               2     Joseph   Anderson           451   \n",
      "..           ...             ...        ...        ...           ...   \n",
      "135          812               2    Charles      Jones           341   \n",
      "136          813               2    William  Rodriguez           774   \n",
      "137          832               2     Daniel      Moore           585   \n",
      "138          833               2    Anthony     Miller           458   \n",
      "139          839               2    Matthew    Jackson           771   \n",
      "\n",
      "     annual_income employement_status                            address  \\\n",
      "0            74113         Unemployed        5050 Oak St, Richardson, TX   \n",
      "1           113227         Unemployed           690 Ash St, McKinney, TX   \n",
      "2            85167         Unemployed             123 Elm St, Dallas, TX   \n",
      "3            31004         Unemployed         3030 Maple St, Coppell, TX   \n",
      "4            51227           Employed       468 Spruce St, Grapevine, TX   \n",
      "..             ...                ...                                ...   \n",
      "135          36949      Self-employed         468 Spruce St, Abilene, TX   \n",
      "136          44343           Employed         468 Spruce St, Abilene, TX   \n",
      "137          57581           Employed            690 Ash St, Midland, TX   \n",
      "138          81454      Self-employed  801 Cherry St, Corpus Christi, TX   \n",
      "139          63979         Unemployed            246 Oak St, Lubbock, TX   \n",
      "\n",
      "     debt_to_income_ratio  \n",
      "0                0.729966  \n",
      "1                0.208431  \n",
      "2                0.529548  \n",
      "3                0.019352  \n",
      "4                0.778886  \n",
      "..                    ...  \n",
      "135              1.377574  \n",
      "136              0.171391  \n",
      "137              0.460221  \n",
      "138              0.481253  \n",
      "139              0.123478  \n",
      "\n",
      "[140 rows x 9 columns]\n"
     ]
    }
   ],
   "source": [
    "# Identify repeat customers and count the number of purchases they made\n",
    "repeat_customers = sales_df.groupby('customer_id').agg(\n",
    "    purchase_count=('sale_id', 'count')\n",
    ").reset_index()\n",
    "\n",
    "# Filter for customers who have made more than one purchase\n",
    "repeat_customers = repeat_customers[repeat_customers['purchase_count'] > 1]\n",
    "\n",
    "# Merge with customer data to include customer details\n",
    "repeat_customers_details = pd.merge(repeat_customers, customers_df, on='customer_id')\n",
    "\n",
    "# Display the result\n",
    "print(repeat_customers_details)\n"
   ]
  },
  {
   "cell_type": "code",
   "execution_count": null,
   "id": "4084a652",
   "metadata": {},
   "outputs": [],
   "source": []
  }
 ],
 "metadata": {
  "kernelspec": {
   "display_name": "Python 3",
   "language": "python",
   "name": "python3"
  },
  "language_info": {
   "codemirror_mode": {
    "name": "ipython",
    "version": 3
   },
   "file_extension": ".py",
   "mimetype": "text/x-python",
   "name": "python",
   "nbconvert_exporter": "python",
   "pygments_lexer": "ipython3",
   "version": "3.11.7"
  }
 },
 "nbformat": 4,
 "nbformat_minor": 5
}
